{
 "cells": [
  {
   "cell_type": "markdown",
   "id": "e0dc2306-5d4a-43b5-b612-b510abf304a7",
   "metadata": {},
   "source": [
    "I had merged microglia but I realized that age_death were missing for a lot of patients. "
   ]
  },
  {
   "cell_type": "code",
   "execution_count": 2,
   "id": "a53c48ab-7fc6-4da4-bbca-916ae2f95944",
   "metadata": {},
   "outputs": [],
   "source": [
    "import scanpy as sc\n",
    "import re\n",
    "import h5py\n",
    "import re\n",
    "import numpy as np\n",
    "import pandas as pd\n",
    "import anndata as ad"
   ]
  },
  {
   "cell_type": "code",
   "execution_count": 3,
   "id": "ce1de3e2-9064-4f90-a148-5b658d352ece",
   "metadata": {},
   "outputs": [
    {
     "name": "stdout",
     "output_type": "stream",
     "text": [
      "AnnData: 0.11.4\n",
      "Scanpy: 1.11.4\n",
      "h5py: 3.14.0\n"
     ]
    }
   ],
   "source": [
    "print(\"AnnData:\", ads.__version__)\n",
    "print(\"Scanpy:\", sc.__version__)\n",
    "print(\"h5py:\", h5py.__version__)\n"
   ]
  },
  {
   "cell_type": "code",
   "execution_count": 31,
   "id": "11c08ce1-61cb-424e-bc2e-d96fabeda8e0",
   "metadata": {},
   "outputs": [],
   "source": [
    "adata1 = sc.read_h5ad(\"/mnt/data/mit_pfc_mathysCell2023/PFC_micro_allgenes.h5ad\")\n",
    "adata2 = sc.read_h5ad(\"/mnt/data/seaad_dlpfc/seaad_microglia_fixed.h5ad\")\n",
    "adata3 = sc.read_h5ad(\"/home/ubuntu/human_PFC/dejaeg_preprocessing/microglia_filt.h5ad\")"
   ]
  },
  {
   "cell_type": "code",
   "execution_count": 32,
   "id": "a37535a9-7510-4175-b746-d010e4435294",
   "metadata": {},
   "outputs": [
    {
     "name": "stdout",
     "output_type": "stream",
     "text": [
      "Index(['projid', 'individualID_x', 'cell_type_high_resolution',\n",
      "       'major_cell_type', 'barcode', 'batch', 'chemistry', 'individualID_y',\n",
      "       'individualID', 'individualIdSource', 'species', 'sex', 'subject',\n",
      "       'Study', 'msex', 'educ', 'race', 'spanish', 'apoe_genotype',\n",
      "       'age_at_visit_max', 'age_first_ad_dx', 'age_death',\n",
      "       'cts_mmse30_first_ad_dx', 'cts_mmse30_lv', 'pmi', 'braaksc', 'ceradsc',\n",
      "       'cogdx', 'dcfdx_lv', 'n_genes_by_counts', 'log1p_n_genes_by_counts',\n",
      "       'total_counts', 'log1p_total_counts', 'pct_counts_in_top_20_genes',\n",
      "       'total_counts_mt', 'log1p_total_counts_mt', 'pct_counts_mt',\n",
      "       'total_counts_ribo', 'log1p_total_counts_ribo', 'pct_counts_ribo',\n",
      "       'total_counts_hb', 'log1p_total_counts_hb', 'pct_counts_hb', 'outlier',\n",
      "       'mt_outlier', 'n_genes', 'doublet_scores', 'predicted_doublets',\n",
      "       'celltypist_cell_label', 'celltypist_conf_score'],\n",
      "      dtype='object')\n",
      "['sample_id', 'Neurotypical reference', 'Donor ID', 'Organism', 'Brain Region', 'Sex', 'Gender', 'Age at Death', 'Race (choice=White)', 'Race (choice=Black_ African American)', 'Race (choice=Asian)', 'Race (choice=American Indian_ Alaska Native)', 'Race (choice=Native Hawaiian or Pacific Islander)', 'Race (choice=Unknown or unreported)', 'Race (choice=Other)', 'specify other race', 'Hispanic_Latino', 'Highest level of education', 'Years of education', 'PMI', 'Fresh Brain Weight', 'Brain pH', 'Overall AD neuropathological Change', 'Thal', 'Braak', 'CERAD score', 'Overall CAA Score', 'Highest Lewy Body Disease', 'Total Microinfarcts (not observed grossly)', 'Total microinfarcts in screening sections', 'Atherosclerosis', 'Arteriolosclerosis', 'LATE', 'Cognitive Status', 'Last CASI Score', 'Interval from last CASI in months', 'Last MMSE Score', 'Interval from last MMSE in months', 'Last MOCA Score', 'Interval from last MOCA in months', 'APOE Genotype', 'Primary Study Name', 'Secondary Study Name', 'cell_prep_type', 'facs_population_plan', 'rna_amplification', 'sample_name', 'sample_quantity_count', 'expc_cell_capture', 'method', 'pcr_cycles', 'percent_cdna_longer_than_400bp', 'rna_amplification_pass_fail', 'amplified_quantity_ng', 'load_name', 'library_prep', 'library_input_ng', 'r1_index', 'avg_size_bp', 'quantification_fmol', 'library_prep_pass_fail', 'exp_component_vendor_name', 'batch_vendor_name', 'experiment_component_failed', 'alignment', 'Genome', 'ar_id', 'bc', 'GEX_Estimated_number_of_cells', 'GEX_number_of_reads', 'GEX_sequencing_saturation', 'GEX_Mean_raw_reads_per_cell', 'GEX_Q30_bases_in_barcode', 'GEX_Q30_bases_in_read_2', 'GEX_Q30_bases_in_UMI', 'GEX_Percent_duplicates', 'GEX_Q30_bases_in_sample_index_i1', 'GEX_Q30_bases_in_sample_index_i2', 'GEX_Reads_with_TSO', 'GEX_Sequenced_read_pairs', 'GEX_Valid_UMIs', 'GEX_Valid_barcodes', 'GEX_Reads_mapped_to_genome', 'GEX_Reads_mapped_confidently_to_genome', 'GEX_Reads_mapped_confidently_to_intergenic_regions', 'GEX_Reads_mapped_confidently_to_intronic_regions', 'GEX_Reads_mapped_confidently_to_exonic_regions', 'GEX_Reads_mapped_confidently_to_transcriptome', 'GEX_Reads_mapped_antisense_to_gene', 'GEX_Fraction_of_transcriptomic_reads_in_cells', 'GEX_Total_genes_detected', 'GEX_Median_UMI_counts_per_cell', 'GEX_Median_genes_per_cell', 'Multiome_Feature_linkages_detected', 'Multiome_Linked_genes', 'Multiome_Linked_peaks', 'ATAC_Confidently_mapped_read_pairs', 'ATAC_Fraction_of_genome_in_peaks', 'ATAC_Fraction_of_high_quality_fragments_in_cells', 'ATAC_Fraction_of_high_quality_fragments_overlapping_TSS', 'ATAC_Fraction_of_high_quality_fragments_overlapping_peaks', 'ATAC_Fraction_of_transposition_events_in_peaks_in_cells', 'ATAC_Mean_raw_read_pairs_per_cell', 'ATAC_Median_high_quality_fragments_per_cell', 'ATAC_Non-nuclear_read_pairs', 'ATAC_Number_of_peaks', 'ATAC_Percent_duplicates', 'ATAC_Q30_bases_in_barcode', 'ATAC_Q30_bases_in_read_1', 'ATAC_Q30_bases_in_read_2', 'ATAC_Q30_bases_in_sample_index_i1', 'ATAC_Sequenced_read_pairs', 'ATAC_TSS_enrichment_score', 'ATAC_Unmapped_read_pairs', 'ATAC_Valid_barcodes', 'Number of mapped reads', 'Number of unmapped reads', 'Number of multimapped reads', 'Number of reads', 'Number of UMIs', 'Genes detected', 'Doublet score', 'Fraction mitochondrial UMIs', 'Used in analysis', 'Class confidence', 'Class', 'Subclass confidence', 'Subclass', 'Supertype confidence', 'Supertype (non-expanded)', 'Supertype', 'Severely Affected Donor', 'n_genes_by_counts', 'log1p_n_genes_by_counts', 'total_counts', 'log1p_total_counts', 'pct_counts_in_top_20_genes', 'total_counts_mt', 'log1p_total_counts_mt', 'pct_counts_mt', 'total_counts_ribo', 'log1p_total_counts_ribo', 'pct_counts_ribo', 'total_counts_hb', 'log1p_total_counts_hb', 'pct_counts_hb', 'n_genes', 'doublet_scores', 'predicted_doublets', 'doublet_label', 'outlier', 'mt_outlier']\n",
      "Index(['nCount_RNA', 'nFeature_RNA', 'nCount_SCT', 'nFeature_SCT', 'batch',\n",
      "       'individualID', 'DoubletFinder.score', 'subset', 'class', 'state',\n",
      "       'Unnamed: 0', 'grouping.by', 'cell.type', 'seurat.object', 'projid',\n",
      "       'Study', 'msex', 'educ', 'race', 'spanish', 'apoe_genotype',\n",
      "       'age_at_visit_max', 'age_first_ad_dx', 'age_death',\n",
      "       'cts_mmse30_first_ad_dx', 'cts_mmse30_lv', 'pmi', 'braaksc', 'ceradsc',\n",
      "       'cogdx', 'dcfdx_lv', 'n_genes_by_counts', 'log1p_n_genes_by_counts',\n",
      "       'total_counts', 'log1p_total_counts', 'pct_counts_in_top_20_genes',\n",
      "       'total_counts_mt', 'log1p_total_counts_mt', 'pct_counts_mt',\n",
      "       'total_counts_ribo', 'log1p_total_counts_ribo', 'pct_counts_ribo',\n",
      "       'total_counts_hb', 'log1p_total_counts_hb', 'pct_counts_hb', 'outlier',\n",
      "       'mt_outlier', 'n_genes', 'doublet_scores', 'predicted_doublets'],\n",
      "      dtype='object')\n"
     ]
    }
   ],
   "source": [
    "print(adata1.obs.columns)\n",
    "print(list(adata2.obs.columns))\n",
    "print(adata3.obs.columns)"
   ]
  },
  {
   "cell_type": "markdown",
   "id": "8c536be5-a85e-4758-99f8-2da3302fcad0",
   "metadata": {},
   "source": [
    "Investigate adata objects to make sure all values are available for pmi, age_death, batch, braak, cerad, apoe, sex \n",
    "and to make sure that all genes are present"
   ]
  },
  {
   "cell_type": "markdown",
   "id": "dc93ab2d-dc07-4cb4-a65b-beaa44fdcf73",
   "metadata": {},
   "source": [
    "<span style=\"color:navy; font-weight:bold;\"> age at death values range and missing values </span>"
   ]
  },
  {
   "cell_type": "code",
   "execution_count": 33,
   "id": "38114a78-162c-477f-a10f-dcdb5dcd0d75",
   "metadata": {},
   "outputs": [
    {
     "name": "stdout",
     "output_type": "stream",
     "text": [
      "Number of missing values in age_death (adata1): 0\n",
      "Statistics for adata1:\n",
      "count     57452\n",
      "unique      217\n",
      "top         90+\n",
      "freq      21308\n",
      "Name: age_death, dtype: object\n",
      "\n",
      "\n",
      "Number of missing values in Age at Death (adata2): 0\n",
      "Statistics for adata2:\n",
      "count    38103.000000\n",
      "mean        88.357190\n",
      "std          8.579551\n",
      "min         68.000000\n",
      "25%         83.000000\n",
      "50%         90.000000\n",
      "75%         95.000000\n",
      "max        102.000000\n",
      "Name: Age at Death, dtype: float64\n",
      "\n",
      "\n",
      "Number of missing values in age_death (adata3): 0\n",
      "Statistics for adata3:\n",
      "count     58593\n",
      "unique      199\n",
      "top         90+\n",
      "freq      25502\n",
      "Name: age_death, dtype: object\n",
      "\n",
      "\n"
     ]
    }
   ],
   "source": [
    "# --- adata1 ---\n",
    "#adata1.obs['age_death'] = pd.to_numeric(adata1.obs['age_death'], errors='coerce')\n",
    "missing_count = adata1.obs['age_death'].isna().sum()\n",
    "print(f\"Number of missing values in age_death (adata1): {missing_count}\")\n",
    "print(\"Statistics for adata1:\")\n",
    "print(adata1.obs['age_death'].describe())\n",
    "print(\"\\n\")\n",
    "\n",
    "# --- adata2 ---\n",
    "#adata2.obs['Age at Death'] = pd.to_numeric(adata2.obs['Age at Death'], errors='coerce')\n",
    "missing_count = adata2.obs['Age at Death'].isna().sum()\n",
    "print(f\"Number of missing values in Age at Death (adata2): {missing_count}\")\n",
    "print(\"Statistics for adata2:\")\n",
    "print(adata2.obs['Age at Death'].describe())\n",
    "print(\"\\n\")\n",
    "\n",
    "# --- adata3 ---\n",
    "#adata3.obs['age_death'] = pd.to_numeric(adata3.obs['age_death'], errors='coerce')\n",
    "missing_count = adata3.obs['age_death'].isna().sum()\n",
    "print(f\"Number of missing values in age_death (adata3): {missing_count}\")\n",
    "print(\"Statistics for adata3:\")\n",
    "print(adata3.obs['age_death'].describe())\n",
    "print(\"\\n\")\n"
   ]
  },
  {
   "cell_type": "code",
   "execution_count": 37,
   "id": "f450b90b-f211-4f1b-a1f9-01df3a716cfa",
   "metadata": {},
   "outputs": [
    {
     "name": "stdout",
     "output_type": "stream",
     "text": [
      "\n",
      "===== age_death (57452 observations) =====\n",
      "Missing values: 0\n",
      "Range: 71.7–90.0\n",
      "Mean: 86.24\n",
      "Median: 87.93\n",
      "\n",
      "Full .describe() output:\n",
      "count    57452.000000\n",
      "mean        86.238004\n",
      "std          4.531898\n",
      "min         71.660507\n",
      "25%         83.745380\n",
      "50%         87.928816\n",
      "75%         90.000000\n",
      "max         90.000000\n",
      "Name: age_death, dtype: float64\n",
      "\n",
      "===== Age at Death (38103 observations) =====\n",
      "Missing values: 0\n",
      "Range: 68.0–102.0\n",
      "Mean: 88.36\n",
      "Median: 90.00\n",
      "\n",
      "Full .describe() output:\n",
      "count    38103.000000\n",
      "mean        88.357190\n",
      "std          8.579551\n",
      "min         68.000000\n",
      "25%         83.000000\n",
      "50%         90.000000\n",
      "75%         95.000000\n",
      "max        102.000000\n",
      "Name: Age at Death, dtype: float64\n",
      "\n",
      "===== age_death (58593 observations) =====\n",
      "Missing values: 0\n",
      "Range: 71.3–90.0\n",
      "Mean: 86.86\n",
      "Median: 89.32\n",
      "\n",
      "Full .describe() output:\n",
      "count    58593.000000\n",
      "mean        86.859377\n",
      "std          4.260361\n",
      "min         71.310062\n",
      "25%         84.476386\n",
      "50%         89.322382\n",
      "75%         90.000000\n",
      "max         90.000000\n",
      "Name: age_death, dtype: float64\n"
     ]
    }
   ],
   "source": [
    "# --- Helper function to clean age columns ---\n",
    "def clean_age_column(series):\n",
    "    series = series.astype(str)\n",
    "    # Replace \"90+\" etc. with \"90\"\n",
    "    series = series.str.replace(r'\\+', '', regex=True)\n",
    "    # Remove anything that isn’t a digit or decimal point (like \"years\", \"yr\", etc.)\n",
    "    series = series.str.replace(r'[^\\d\\.]', '', regex=True)\n",
    "    # Convert to numeric (invalid → NaN)\n",
    "    series = pd.to_numeric(series, errors='coerce')\n",
    "    return series\n",
    "\n",
    "# --- Function to clean and summarize each AnnData object ---\n",
    "def summarize_age(adata, colnames):\n",
    "    # Find which of the given candidate columns actually exists\n",
    "    for c in colnames:\n",
    "        if c in adata.obs.columns:\n",
    "            col = c\n",
    "            break\n",
    "    else:\n",
    "        print(\"⚠️ No age column found.\")\n",
    "        return\n",
    "    \n",
    "    # Clean and convert to numeric\n",
    "    adata.obs[col] = clean_age_column(adata.obs[col])\n",
    "    \n",
    "    # Drop missing for stats\n",
    "    ages = adata.obs[col].dropna()\n",
    "    missing_count = adata.obs[col].isna().sum()\n",
    "    \n",
    "    # Print results\n",
    "    print(f\"\\n===== {col} ({adata.obs.shape[0]} observations) =====\")\n",
    "    print(f\"Missing values: {missing_count}\")\n",
    "    print(f\"Range: {ages.min():.1f}–{ages.max():.1f}\")\n",
    "    print(f\"Mean: {ages.mean():.2f}\")\n",
    "    print(f\"Median: {ages.median():.2f}\")\n",
    "    print(\"\\nFull .describe() output:\")\n",
    "    print(ages.describe())\n",
    "\n",
    "# --- Run for your three datasets ---\n",
    "summarize_age(adata1, [\"age_death\", \"Age at Death\"])\n",
    "summarize_age(adata2, [\"age_death\", \"Age at Death\"])\n",
    "summarize_age(adata3, [\"age_death\", \"Age at Death\"])\n"
   ]
  },
  {
   "cell_type": "code",
   "execution_count": 44,
   "id": "b79675e5-af98-4fb1-94d9-9b23d4b39699",
   "metadata": {},
   "outputs": [
    {
     "name": "stdout",
     "output_type": "stream",
     "text": [
      "Number of missing values in age_death (adata2): 0\n",
      "Statistics for adata2:\n",
      "count    38103.000000\n",
      "mean        88.357190\n",
      "std          8.579551\n",
      "min         68.000000\n",
      "25%         83.000000\n",
      "50%         90.000000\n",
      "75%         95.000000\n",
      "max        102.000000\n",
      "Name: age_death, dtype: float64\n",
      "\n",
      "\n"
     ]
    }
   ],
   "source": [
    "#change name of age at death in SEAAD\n",
    "adata2.obs[\"age_death\"] = adata2.obs[\"Age at Death\"]\n",
    "missing_count = adata2.obs['age_death'].isna().sum()\n",
    "print(f\"Number of missing values in age_death (adata2): {missing_count}\")\n",
    "print(\"Statistics for adata2:\")\n",
    "print(adata2.obs['age_death'].describe())\n",
    "print(\"\\n\")"
   ]
  },
  {
   "cell_type": "markdown",
   "id": "7ef8d838-ad16-4089-8708-bef5b52185cc",
   "metadata": {},
   "source": [
    "<span style=\"color:navy; font-weight:bold;\">Sex</span>"
   ]
  },
  {
   "cell_type": "code",
   "execution_count": 18,
   "id": "fb306497-f5e6-49e5-9fda-6e9604fd0fec",
   "metadata": {},
   "outputs": [
    {
     "name": "stdout",
     "output_type": "stream",
     "text": [
      "adata2 'Sex' unique: ['Male', 'Female']\n",
      "Categories (2, object): ['Female', 'Male']\n",
      "adata1 sex unique: ['male', 'female']\n",
      "Categories (2, object): ['female', 'male']\n",
      "adata3 sex unique: [1. 0.]\n"
     ]
    }
   ],
   "source": [
    "print(f\"adata2 'Sex' unique: {adata2.obs['Sex'].unique()}\")\n",
    "print(f\"adata1 sex unique: {adata1.obs['sex'].unique()}\")\n",
    "print(f\"adata3 sex unique: {adata3.obs['msex'].unique()}\")"
   ]
  },
  {
   "cell_type": "code",
   "execution_count": 46,
   "id": "8c7356fa-064a-4bf0-9aa5-0e1152b2d0a1",
   "metadata": {},
   "outputs": [
    {
     "name": "stdout",
     "output_type": "stream",
     "text": [
      "adata1 sex unique: ['Male', 'Female']\n",
      "Categories (2, object): ['Female', 'Male']\n",
      "adata2 sex unique: ['Male', 'Female']\n",
      "Categories (2, object): ['Female', 'Male']\n",
      "adata3 sex unique: ['Male', 'Female']\n",
      "Categories (2, object): ['Female', 'Male']\n"
     ]
    }
   ],
   "source": [
    "# --- adata1 ---\n",
    "# already has 'sex' column with 'male' / 'female'\n",
    "adata1.obs['sex'] = (\n",
    "    adata1.obs['sex']\n",
    "    .astype(str)\n",
    "    .str.strip()\n",
    "    .str.lower()\n",
    "    .replace({'male': 'Male', 'female': 'Female'})\n",
    ")\n",
    "adata1.obs['sex'] = pd.Categorical(adata1.obs['sex'], categories=['Female', 'Male'], ordered=False)\n",
    "print(\"adata1 sex unique:\", adata1.obs['sex'].unique())\n",
    "\n",
    "\n",
    "# --- adata2 ---\n",
    "# has 'Sex' column with 'Male' / 'Female'\n",
    "adata2.obs.rename(columns={'Sex': 'sex'}, inplace=True)\n",
    "adata2.obs['sex'] = adata2.obs['sex'].astype(str).str.strip().str.capitalize()\n",
    "adata2.obs['sex'] = pd.Categorical(adata2.obs['sex'], categories=['Female', 'Male'], ordered=False)\n",
    "print(\"adata2 sex unique:\", adata2.obs['sex'].unique())\n",
    "\n",
    "\n",
    "# --- adata3 ---\n",
    "# has numeric encoding: 1 = Male, 0 = Female\n",
    "adata3.obs.rename(columns={'msex': 'sex'}, inplace=True) if 'msex' in adata3.obs.columns else None\n",
    "adata3.obs['sex'] = (\n",
    "    adata3.obs['sex']\n",
    "    .replace({1: 'Male', 0: 'Female'})\n",
    "    .astype(str)\n",
    "    .str.strip()\n",
    ")\n",
    "adata3.obs['sex'] = pd.Categorical(adata3.obs['sex'], categories=['Female', 'Male'], ordered=False)\n",
    "print(\"adata3 sex unique:\", adata3.obs['sex'].unique())\n"
   ]
  },
  {
   "cell_type": "markdown",
   "id": "b71280bc-6e45-492b-b523-5d00072f4d52",
   "metadata": {},
   "source": [
    "<span style=\"color:navy; font-weight:bold;\">individual IDs n of unique </span>"
   ]
  },
  {
   "cell_type": "code",
   "execution_count": 39,
   "id": "0624d371-945c-483b-bc04-67fe80fdcc4e",
   "metadata": {},
   "outputs": [
    {
     "name": "stdout",
     "output_type": "stream",
     "text": [
      "adata1 individualID unique: ['R9307768', 'R8608442', 'R7944883', 'R4439627', 'R9094222', ..., 'R5629689', 'R9794121', 'R2157677', 'R7627203', 'R6679530']\n",
      "Length: 347\n",
      "Categories (347, object): ['R1015854', 'R1028639', 'R1042566', 'R1067972', ..., 'R9880904', 'R9891381', 'R9907075', 'R9936070']\n",
      "adata2 sample_id unique: 38103\n",
      "adata2 Donor ID unique: ['H20.33.020', 'H20.33.017', 'H21.33.003', 'H21.33.006', 'H21.33.032', ..., 'H21.33.035', 'H21.33.031', 'H20.33.027', 'H21.33.034', 'H21.33.020']\n",
      "Length: 66\n",
      "Categories (66, object): ['H19.33.004', 'H20.33.001', 'H20.33.004', 'H20.33.008', ..., 'H21.33.044', 'H21.33.045', 'H21.33.046', 'H21.33.047']\n",
      "adata3 individualID unique: ['R4119160', 'R4641987', 'R9116123', 'R2670295', 'R6759986', ..., 'R4744901', 'R5133113', 'R1538032', 'R4516201', 'R4388056']\n",
      "Length: 369\n",
      "Categories (369, object): ['R1015854', 'R1028639', 'R1042566', 'R1074668', ..., 'R9907075', 'R9936070', 'R9976232', 'R9996478']\n"
     ]
    }
   ],
   "source": [
    "print(f\"adata1 individualID unique: {adata1.obs['individualID'].unique()}\")\n",
    "print(f\"adata2 sample_id unique: {len(adata2.obs['sample_id'].unique())}\")\n",
    "print(f\"adata2 Donor ID unique: {adata2.obs['Donor ID'].unique()}\")\n",
    "print(f\"adata3 individualID unique: {adata3.obs['individualID'].unique()}\")"
   ]
  },
  {
   "cell_type": "markdown",
   "id": "cae78e42-8ea4-4e5d-b16b-0e651f131a42",
   "metadata": {},
   "source": [
    "<span style=\"color:navy; font-weight:bold;\"> batch check </span>"
   ]
  },
  {
   "cell_type": "code",
   "execution_count": 41,
   "id": "c601316d-f3bf-488d-ab21-58a0bfbd04ac",
   "metadata": {},
   "outputs": [
    {
     "name": "stdout",
     "output_type": "stream",
     "text": [
      "adata1 batch unique: ['171013Tsa', '190312Tsa', 'Brain_region_PFC', 'GZQRZ', 'GZQS1', ..., 'IXFTR', 'IXFTU', 'J2CJI', 'J2CJJ', 'Last16']\n",
      "Length: 15\n",
      "Categories (15, object): ['171013Tsa', '190312Tsa', 'Brain_region_PFC', 'GZQRZ', ..., 'IXFTU', 'J2CJI', 'J2CJJ', 'Last16']\n",
      "adata2 laod_name unique: ['763_H06', '683_G04', '1073_H02', '696_D02', '815_F04', ..., '804_F04', '804_A04', '651_G02', '804_E04', '773_C02']\n",
      "Length: 156\n",
      "Categories (156, object): ['651_F02', '651_G02', '656_A05', '656_B05', ..., '1122_A03', '1122_C03', '1135_A01', '1181_A01']\n",
      "adata3 batch unique: ['190403-B4-A', '190403-B4-B', '190409-B5-A', '190409-B5-B', '191121-B6', ..., 'MAP43074402', 'MAP50104134', 'MAP72650337', 'MAP77143621', 'MAP84653463']\n",
      "Length: 125\n",
      "Categories (125, object): ['190403-B4-A', '190403-B4-B', '190409-B5-A', '190409-B5-B', ..., 'MAP50104134', 'MAP72650337', 'MAP77143621', 'MAP84653463']\n"
     ]
    }
   ],
   "source": [
    "print(f\"adata1 batch unique: {adata1.obs['batch'].unique()}\")\n",
    "print(f\"adata2 laod_name unique: {adata2.obs['load_name'].unique()}\")\n",
    "print(f\"adata3 batch unique: {adata3.obs['batch'].unique()}\")"
   ]
  },
  {
   "cell_type": "code",
   "execution_count": 42,
   "id": "0ed26059-62bd-4e81-8b72-1210260556cf",
   "metadata": {},
   "outputs": [],
   "source": [
    "# SEAAD: copy from load_name (best batch proxy)\n",
    "adata2.obs[\"batch\"] = adata2.obs[\"load_name\"].astype(str)"
   ]
  },
  {
   "cell_type": "code",
   "execution_count": 47,
   "id": "da609335-2ae8-407a-943c-8838dc91abe4",
   "metadata": {},
   "outputs": [],
   "source": [
    "# -----------------------\n",
    "# Helper functions\n",
    "# -----------------------\n",
    "\n",
    "def _first(df, candidates):\n",
    "    \"\"\"Return the first existing column among candidates.\"\"\"\n",
    "    for c in candidates:\n",
    "        if c in df.columns:\n",
    "            return df[c]\n",
    "    return pd.Series(index=df.index, dtype=\"object\")\n",
    "\n",
    "\n",
    "# ---- APOE ----\n",
    "_APOE_PAIR_RE = re.compile(r\"[eεE]?\\s*([234])\\s*[/\\-\\|\\s]?\\s*[eεE]?\\s*([234])\")\n",
    "\n",
    "def apoe_to_std(x):\n",
    "    \"\"\"Convert APOE genotype strings/numbers to 'E3/E4' style.\"\"\"\n",
    "    if pd.isna(x):\n",
    "        return np.nan\n",
    "    if isinstance(x, (int, float, np.integer, np.floating)):\n",
    "        s = str(int(x))\n",
    "    else:\n",
    "        s = str(x)\n",
    "    s = s.strip().replace(\"ε\", \"e\").replace(\"E\", \"e\").replace(\"-\", \"/\").replace(\"|\", \"/\")\n",
    "    m = _APOE_PAIR_RE.search(s)\n",
    "    if m:\n",
    "        a, b = m.groups()\n",
    "        a, b = sorted([a, b])\n",
    "        return f\"E{a}/E{b}\"\n",
    "    digits = [ch for ch in s if ch in \"234\"]\n",
    "    if len(digits) >= 2:\n",
    "        a, b = sorted(digits[:2])\n",
    "        return f\"E{a}/E{b}\"\n",
    "    return np.nan\n",
    "\n",
    "def apoe_e4_dosage(apoe_std):\n",
    "    if pd.isna(apoe_std):\n",
    "        return np.nan\n",
    "    left, right = apoe_std.replace(\"E\", \"\").split(\"/\")\n",
    "    return int(left == \"4\") + int(right == \"4\")\n",
    "\n",
    "\n",
    "# ---- Braak ----\n",
    "_ROMAN_TO_INT = {\"I\": 1, \"II\": 2, \"III\": 3, \"IV\": 4, \"V\": 5, \"VI\": 6}\n",
    "_INT_TO_ROMAN = {v: k for k, v in _ROMAN_TO_INT.items()}\n",
    "\n",
    "def parse_braak(x):\n",
    "    \"\"\"Convert Braak staging values (roman, numeric, text) to 0..6 scale.\"\"\"\n",
    "    if pd.isna(x):\n",
    "        return np.nan\n",
    "    if isinstance(x, (int, float, np.integer, np.floating)):\n",
    "        try:\n",
    "            return int(np.clip(int(round(float(x))), 0, 6))\n",
    "        except:\n",
    "            return np.nan\n",
    "    s = str(x).strip().upper().replace(\"BRAAK\", \"\").strip()\n",
    "    if s in _ROMAN_TO_INT:\n",
    "        return _ROMAN_TO_INT[s]\n",
    "    try:\n",
    "        return int(np.clip(int(float(s)), 0, 6))\n",
    "    except:\n",
    "        for r, v in _ROMAN_TO_INT.items():\n",
    "            if r in s:\n",
    "                return v\n",
    "    return np.nan\n",
    "\n",
    "def braak_label_from_stage(stage):\n",
    "    if pd.isna(stage):\n",
    "        return np.nan\n",
    "    stage = int(stage)\n",
    "    return \"Braak 0\" if stage == 0 else f\"Braak {_INT_TO_ROMAN.get(stage, str(stage))}\"\n",
    "\n",
    "\n",
    "# ---- CERAD ----\n",
    "_CERAD_14_LABEL = {1: \"Absent\", 2: \"Sparse\", 3: \"Moderate\", 4: \"Frequent\"}\n",
    "_CERAD_LABEL_14 = {v.upper(): k for k, v in _CERAD_14_LABEL.items()}\n",
    "\n",
    "def to_cerad_1_4(x):\n",
    "    if pd.isna(x):\n",
    "        return np.nan\n",
    "    if isinstance(x, (int, float, np.integer, np.floating)):\n",
    "        try:\n",
    "            v = int(round(float(x)))\n",
    "            if v in (1, 2, 3, 4):\n",
    "                return v\n",
    "            if v in (0, 1, 2, 3):\n",
    "                return v + 1\n",
    "        except:\n",
    "            return np.nan\n",
    "    return _CERAD_LABEL_14.get(str(x).strip().upper(), np.nan)\n",
    "\n",
    "def cerad_14_to_03(v):\n",
    "    return np.nan if pd.isna(v) else int(v) - 1\n",
    "\n",
    "def cerad_label_from_14(v):\n",
    "    return np.nan if pd.isna(v) else _CERAD_14_LABEL.get(int(v), np.nan)\n",
    "\n",
    "\n",
    "# ---- Race (SEAAD) ----\n",
    "def derive_race_from_seaad(df: pd.DataFrame) -> pd.Series:\n",
    "    mapping = {\n",
    "        \"Race (choice=White)\": \"White\",\n",
    "        \"Race (choice=Black_ African American)\": \"Black or African American\",\n",
    "        \"Race (choice=Asian)\": \"Asian\",\n",
    "        \"Race (choice=American Indian_ Alaska Native)\": \"American Indian/Alaska Native\",\n",
    "        \"Race (choice=Native Hawaiian or Pacific Islander)\": \"Native Hawaiian/Other Pacific Islander\",\n",
    "        \"Race (choice=Unknown or unreported)\": \"Unknown or unreported\",\n",
    "        \"Race (choice=Other)\": \"Other\",\n",
    "    }\n",
    "    present = [c for c in mapping if c in df.columns]\n",
    "    if not present:\n",
    "        return pd.Series(index=df.index, dtype=\"object\")\n",
    "\n",
    "    def _one(row):\n",
    "        picks = [mapping[c] for c in present if isinstance(row[c], str) and row[c].strip().lower() == \"checked\"]\n",
    "        if not picks and \"specify other race\" in row and pd.notna(row[\"specify other race\"]):\n",
    "            return str(row[\"specify other race\"])\n",
    "        if not picks:\n",
    "            return np.nan\n",
    "        return picks[0] if len(picks) == 1 else \" / \".join(sorted(set(picks)))\n",
    "\n",
    "    return df.apply(_one, axis=1)\n",
    "\n",
    "\n",
    "# -----------------------\n",
    "# Harmonization\n",
    "# -----------------------\n",
    "CANONICAL_QC = [\n",
    "    \"n_genes_by_counts\", \"log1p_n_genes_by_counts\",\n",
    "    \"total_counts\", \"log1p_total_counts\", \"pct_counts_in_top_20_genes\",\n",
    "    \"total_counts_mt\", \"log1p_total_counts_mt\", \"pct_counts_mt\",\n",
    "    \"total_counts_ribo\", \"log1p_total_counts_ribo\", \"pct_counts_ribo\",\n",
    "    \"total_counts_hb\", \"log1p_total_counts_hb\", \"pct_counts_hb\",\n",
    "    \"n_genes\", \"doublet_scores\", \"predicted_doublets\", \"doublet_label\",\n",
    "    \"outlier\", \"mt_outlier\"\n",
    "]\n",
    "\n",
    "def harmonize_obs(adata, default_dataset_name=None):\n",
    "    df = adata.obs.copy()\n",
    "    std = pd.DataFrame(index=df.index)\n",
    "\n",
    "    # Dataset / IDs / study\n",
    "    std[\"dataset\"] = _first(df, [\"dataset\"])\n",
    "    if std[\"dataset\"].isna().all() and default_dataset_name:\n",
    "        std[\"dataset\"] = default_dataset_name\n",
    "    std[\"projid\"] = _first(df, [\"projid\"])\n",
    "    std[\"study\"] = _first(df, [\"Study\", \"Primary Study Name\"])\n",
    "    std[\"individualID\"] = _first(df, [\"individualID\", \"Donor ID\", \"individualID_y\", \"individualID_x\", \"subject\"])\n",
    "\n",
    "\n",
    "    # ✅ FIXED AGE PARSING\n",
    "    std[\"pmi\"] = pd.to_numeric(_first(df, [\"pmi\", \"PMI\"]), errors=\"coerce\")\n",
    "    std[\"educ_years\"] = pd.to_numeric(_first(df, [\"educ\", \"Years of education\"]), errors=\"coerce\")\n",
    "    std[\"hispanic_latino\"] = _first(df, [\"spanish\", \"Hispanic_Latino\"])\n",
    "    race_from_boxes = derive_race_from_seaad(df)\n",
    "    std[\"race\"] = race_from_boxes if race_from_boxes.notna().any() else _first(df, [\"race\"])\n",
    "    std[\"species\"] = _first(df, [\"species\", \"Organism\"])\n",
    "    std[\"brain_region\"] = _first(df, [\"Brain Region\"])\n",
    "\n",
    "    # APOE\n",
    "    apoe_src = _first(df, [\"apoe_genotype\", \"APOE Genotype\"])\n",
    "    if not apoe_src.empty:\n",
    "        std[\"apoe_genotype_std\"] = apoe_src.apply(apoe_to_std).astype(\"category\")\n",
    "        std[\"apoe_e4_dosage\"] = std[\"apoe_genotype_std\"].apply(apoe_e4_dosage).astype(\"Int64\")\n",
    "        std[\"apoe_e4_carrier\"] = std[\"apoe_e4_dosage\"].fillna(0).astype(int).gt(0)\n",
    "\n",
    "    # Braak\n",
    "    braak_src = _first(df, [\"braaksc\", \"Braak\"])\n",
    "    if not braak_src.empty:\n",
    "        std[\"braak_stage\"] = braak_src.apply(parse_braak).astype(\"Int64\")\n",
    "        std[\"braak_label\"] = pd.Categorical(\n",
    "            std[\"braak_stage\"].map(braak_label_from_stage),\n",
    "            categories=[\"Braak 0\",\"Braak I\",\"Braak II\",\"Braak III\",\"Braak IV\",\"Braak V\",\"Braak VI\"],\n",
    "            ordered=True\n",
    "        )\n",
    "\n",
    "    # CERAD\n",
    "    cerad_src = _first(df, [\"ceradsc\", \"CERAD score\"])\n",
    "    if not cerad_src.empty:\n",
    "        cerad_14 = cerad_src.apply(to_cerad_1_4).astype(\"Int64\")\n",
    "        std[\"cerad_score_1_4\"] = cerad_14\n",
    "        std[\"cerad_score_0_3\"] = cerad_14.apply(cerad_14_to_03).astype(\"Int64\")\n",
    "        std[\"cerad_label\"] = pd.Categorical(\n",
    "            cerad_14.apply(cerad_label_from_14),\n",
    "            categories=[\"Absent\",\"Sparse\",\"Moderate\",\"Frequent\"],\n",
    "            ordered=True\n",
    "        )\n",
    "\n",
    "    # Cognition & tests\n",
    "    std[\"cogdx\"] = _first(df, [\"cogdx\", \"Cognitive Status\"])\n",
    "    std[\"mmse\"] = pd.to_numeric(_first(df, [\"cts_mmse30_lv\", \"Last MMSE Score\"]), errors=\"coerce\")\n",
    "    std[\"moca\"] = pd.to_numeric(_first(df, [\"Last MOCA Score\"]), errors=\"coerce\")\n",
    "    std[\"casi\"] = pd.to_numeric(_first(df, [\"Last CASI Score\"]), errors=\"coerce\")\n",
    "\n",
    "    # Cell-type labels\n",
    "    std[\"celltype_major\"] = _first(df, [\"major_cell_type\", \"Class\", \"subset\"])\n",
    "    std[\"celltype_label\"] = _first(df, [\"cell_type_high_resolution\", \"Subclass\", \"cell.type\", \"celltypist_cell_label\"])\n",
    "    std[\"celltype_supertype\"] = _first(df, [\"Supertype\", \"celltypist_simplified\"])\n",
    "    std[\"celltype_conf\"] = pd.to_numeric(\n",
    "        _first(df, [\"celltypist_conf_score\", \"Class confidence\", \"Subclass confidence\", \"Supertype confidence\"]),\n",
    "        errors=\"coerce\"\n",
    "    )\n",
    "\n",
    "    # QC & doublets\n",
    "    for c in CANONICAL_QC:\n",
    "        std[c] = _first(df, [c])\n",
    "    if \"Doublet score\" in df.columns and std[\"doublet_scores\"].isna().all():\n",
    "        std[\"doublet_scores\"] = pd.to_numeric(df[\"Doublet score\"], errors=\"coerce\")\n",
    "\n",
    "    # Attach back\n",
    "    for c in std.columns:\n",
    "        adata.obs[c] = std[c]\n",
    "    adata.obs[\"harmonized\"] = True\n",
    "    return adata\n"
   ]
  },
  {
   "cell_type": "code",
   "execution_count": 48,
   "id": "92de1b4c-eab7-4dbc-b452-d05b9b343829",
   "metadata": {},
   "outputs": [],
   "source": [
    "adata1 = harmonize_obs(adata1, default_dataset_name=\"MIT_ROSMAP\")\n",
    "adata2 = harmonize_obs(adata2, default_dataset_name=\"SEAAD\")\n",
    "adata3 = harmonize_obs(adata3, default_dataset_name=\"FUJITA\")\n"
   ]
  },
  {
   "cell_type": "code",
   "execution_count": 49,
   "id": "51cf9664-d8a5-4c0e-b7a2-144aa5c5a177",
   "metadata": {},
   "outputs": [
    {
     "name": "stdout",
     "output_type": "stream",
     "text": [
      "None\n",
      "None\n",
      "None\n"
     ]
    }
   ],
   "source": [
    "print(adata1.raw)\n",
    "print(adata2.raw)\n",
    "print(adata3.raw)"
   ]
  },
  {
   "cell_type": "markdown",
   "id": "d20059c4-158f-4687-b566-89710f34584d",
   "metadata": {},
   "source": [
    "<span style=\"color:navy; font-weight:bold;\"> add chemistry </span>"
   ]
  },
  {
   "cell_type": "code",
   "execution_count": 60,
   "id": "b9ec99b3-5159-4b6b-9c16-546dac02d531",
   "metadata": {},
   "outputs": [
    {
     "name": "stdout",
     "output_type": "stream",
     "text": [
      "780    10x 3' v2\n",
      "786    10x 3' v2\n",
      "827    10x 3' v2\n",
      "833    10x 3' v2\n",
      "854    10x 3' v2\n",
      "Name: chemistry, dtype: category\n",
      "Categories (2, object): ['10x 3' v2', '10x 3' v3']\n",
      "exp_component_name\n",
      "ATGACCAGTGACAGGT-L8TX_210805_01_E02-1124416548    10Xv3.1\n",
      "TTTGGAGTCACTTTGT-L8TX_210610_01_F02-1113633852    10Xv3.1\n",
      "TCATGGACACTCCGGA-L8TX_220217_01_H04-1162250581    10Xv3.1\n",
      "CCCAACTAGGTGCCTC-L8TX_210624_01_D03-1114947895    10Xv3.1\n",
      "CCTCAGTCAGGCGAAT-L8TX_220217_01_H04-1162250581    10Xv3.1\n",
      "Name: method, dtype: category\n",
      "Categories (2, object): ['10Xv3.1', '10xMulti']\n"
     ]
    }
   ],
   "source": [
    "print(adata1.obs['chemistry'].head())\n",
    "print(adata2.obs['method'].head())"
   ]
  },
  {
   "cell_type": "code",
   "execution_count": 65,
   "id": "9fec4bd0-5449-45dd-978c-ef2b979d4c8b",
   "metadata": {},
   "outputs": [],
   "source": [
    "adata2.obs[\"chemistry\"] = adata2.obs[\"method\"]\n",
    "adata3.obs['chemistry'] = \"10x 3' v3\" #taken from the paper methods section"
   ]
  },
  {
   "cell_type": "code",
   "execution_count": 66,
   "id": "509db467-9d88-487e-a575-b9b5e1de8b4e",
   "metadata": {},
   "outputs": [
    {
     "name": "stdout",
     "output_type": "stream",
     "text": [
      "['10x 3' v2', '10x 3' v3']\n",
      "Categories (2, object): ['10x 3' v2', '10x 3' v3']\n",
      "['10Xv3.1', '10xMulti']\n",
      "Categories (2, object): ['10Xv3.1', '10xMulti']\n",
      "[\"10x 3' v3\"]\n"
     ]
    }
   ],
   "source": [
    "print(adata1.obs['chemistry'].unique())\n",
    "print(adata2.obs['chemistry'].unique())\n",
    "print(adata3.obs['chemistry'].unique())"
   ]
  },
  {
   "cell_type": "markdown",
   "id": "c8f64440-0461-420b-9140-8137b5d1a86d",
   "metadata": {},
   "source": [
    "<span style=\"color:navy; font-weight:bold;\"> MERGE </span>"
   ]
  },
  {
   "cell_type": "code",
   "execution_count": 67,
   "id": "ad8f8c14-7eee-4297-9aa9-226fddec9fee",
   "metadata": {},
   "outputs": [
    {
     "name": "stdout",
     "output_type": "stream",
     "text": [
      "Number of common genes: 17818\n"
     ]
    },
    {
     "name": "stderr",
     "output_type": "stream",
     "text": [
      "/home/ubuntu/.local/lib/python3.10/site-packages/anndata/_core/merge.py:1349: FutureWarning: The behavior of DataFrame concatenation with empty or all-NA entries is deprecated. In a future version, this will no longer exclude empty or all-NA columns when determining the result dtypes. To retain the old behavior, exclude the relevant entries before the concat operation.\n",
      "  concat_annot = pd.concat(\n",
      "/home/ubuntu/.local/lib/python3.10/site-packages/anndata/_core/merge.py:1349: FutureWarning: The behavior of DataFrame concatenation with empty or all-NA entries is deprecated. In a future version, this will no longer exclude empty or all-NA columns when determining the result dtypes. To retain the old behavior, exclude the relevant entries before the concat operation.\n",
      "  concat_annot = pd.concat(\n",
      "/home/ubuntu/.local/lib/python3.10/site-packages/anndata/_core/merge.py:1349: FutureWarning: The behavior of DataFrame concatenation with empty or all-NA entries is deprecated. In a future version, this will no longer exclude empty or all-NA columns when determining the result dtypes. To retain the old behavior, exclude the relevant entries before the concat operation.\n",
      "  concat_annot = pd.concat(\n"
     ]
    },
    {
     "name": "stdout",
     "output_type": "stream",
     "text": [
      "merged shape: (154148, 17818)\n",
      "datasets: {'FUJITA': 58593, 'MIT_ROSMAP': 57452, 'SEAAD': 38103}\n"
     ]
    }
   ],
   "source": [
    "\n",
    "# 2. Intersection of genes\n",
    "common_genes = (\n",
    "    set(adata1.var_names)\n",
    "    & set(adata2.var_names)\n",
    "    & set(adata3.var_names)\n",
    ")\n",
    "common_genes = pd.Index(sorted(list(common_genes)))\n",
    "print(f\"Number of common genes: {len(common_genes)}\")\n",
    "\n",
    "adata1 = adata1[:, common_genes].copy()\n",
    "adata2 = adata2[:, common_genes].copy()\n",
    "adata3 = adata3[:, common_genes].copy()\n",
    "\n",
    "# 3. Concatenate\n",
    "merged = ad.concat(\n",
    "    {\"MIT_ROSMAP\": adata1, \"SEAAD\": adata2, \"FUJITA\": adata3},\n",
    "    label=\"dataset\",\n",
    "    join=\"inner\"\n",
    ")\n",
    "\n",
    "print(\"merged shape:\", merged.shape)\n",
    "print(\"datasets:\", merged.obs[\"dataset\"].value_counts().to_dict())\n",
    "\n"
   ]
  },
  {
   "cell_type": "code",
   "execution_count": 68,
   "id": "54309839-56be-4ada-b7ff-6ba104899643",
   "metadata": {},
   "outputs": [
    {
     "data": {
      "text/plain": [
       "Index(['projid', 'batch', 'chemistry', 'individualID', 'species', 'sex',\n",
       "       'race', 'age_death', 'pmi', 'cogdx', 'n_genes_by_counts',\n",
       "       'log1p_n_genes_by_counts', 'total_counts', 'log1p_total_counts',\n",
       "       'pct_counts_in_top_20_genes', 'total_counts_mt',\n",
       "       'log1p_total_counts_mt', 'pct_counts_mt', 'total_counts_ribo',\n",
       "       'log1p_total_counts_ribo', 'pct_counts_ribo', 'total_counts_hb',\n",
       "       'log1p_total_counts_hb', 'pct_counts_hb', 'outlier', 'mt_outlier',\n",
       "       'n_genes', 'doublet_scores', 'predicted_doublets', 'dataset', 'study',\n",
       "       'educ_years', 'hispanic_latino', 'brain_region', 'apoe_genotype_std',\n",
       "       'apoe_e4_dosage', 'apoe_e4_carrier', 'braak_stage', 'braak_label',\n",
       "       'cerad_score_1_4', 'cerad_score_0_3', 'cerad_label', 'mmse', 'moca',\n",
       "       'casi', 'celltype_major', 'celltype_label', 'celltype_supertype',\n",
       "       'celltype_conf', 'doublet_label', 'harmonized'],\n",
       "      dtype='object')"
      ]
     },
     "execution_count": 68,
     "metadata": {},
     "output_type": "execute_result"
    }
   ],
   "source": [
    "merged.obs.columns"
   ]
  },
  {
   "cell_type": "markdown",
   "id": "7321334c-d280-4a83-9e1a-0dd17e2e833e",
   "metadata": {},
   "source": [
    "<span style=\"color:navy; font-weight:bold;\"> ad status </span>"
   ]
  },
  {
   "cell_type": "code",
   "execution_count": 69,
   "id": "dc2b9e95-1974-44c7-9e4a-098abe7b5ff4",
   "metadata": {},
   "outputs": [
    {
     "name": "stdout",
     "output_type": "stream",
     "text": [
      "AD_status\n",
      "non-AD    112078\n",
      "AD         42070\n",
      "Name: count, dtype: int64\n"
     ]
    }
   ],
   "source": [
    "# ADD AD STATUS BASED ON BRAAK AND CERAD SCORING \n",
    "\n",
    "# Create AD_status directly in merged.obs\n",
    "merged.obs.loc[\n",
    "    (merged.obs['braak_stage'] >= 5) & (merged.obs['cerad_score_0_3'] <= 2),\n",
    "    'AD_status'\n",
    "] = 'AD'\n",
    "\n",
    "# Optional: label everything else as non-AD\n",
    "merged.obs['AD_status'] = merged.obs['AD_status'].fillna('non-AD')\n",
    "\n",
    "# Check results\n",
    "print(merged.obs['AD_status'].value_counts())\n"
   ]
  },
  {
   "cell_type": "markdown",
   "id": "79aad754-09d8-4236-ac4d-8b7a3f215c20",
   "metadata": {},
   "source": [
    "<span style=\"color:navy; font-weight:bold;\"> SAVE </span>"
   ]
  },
  {
   "cell_type": "code",
   "execution_count": 70,
   "id": "62fd0812-bff5-4df5-b536-30c36785619c",
   "metadata": {},
   "outputs": [
    {
     "name": "stderr",
     "output_type": "stream",
     "text": [
      "/tmp/ipykernel_14681/3101451318.py:4: DeprecationWarning: is_categorical_dtype is deprecated and will be removed in a future version. Use isinstance(dtype, pd.CategoricalDtype) instead\n",
      "  if merged.obs[col].dtype == \"object\" or pd.api.types.is_categorical_dtype(merged.obs[col].dtype):\n",
      "/tmp/ipykernel_14681/3101451318.py:4: DeprecationWarning: is_categorical_dtype is deprecated and will be removed in a future version. Use isinstance(dtype, pd.CategoricalDtype) instead\n",
      "  if merged.obs[col].dtype == \"object\" or pd.api.types.is_categorical_dtype(merged.obs[col].dtype):\n",
      "/tmp/ipykernel_14681/3101451318.py:4: DeprecationWarning: is_categorical_dtype is deprecated and will be removed in a future version. Use isinstance(dtype, pd.CategoricalDtype) instead\n",
      "  if merged.obs[col].dtype == \"object\" or pd.api.types.is_categorical_dtype(merged.obs[col].dtype):\n",
      "/tmp/ipykernel_14681/3101451318.py:4: DeprecationWarning: is_categorical_dtype is deprecated and will be removed in a future version. Use isinstance(dtype, pd.CategoricalDtype) instead\n",
      "  if merged.obs[col].dtype == \"object\" or pd.api.types.is_categorical_dtype(merged.obs[col].dtype):\n",
      "/tmp/ipykernel_14681/3101451318.py:4: DeprecationWarning: is_categorical_dtype is deprecated and will be removed in a future version. Use isinstance(dtype, pd.CategoricalDtype) instead\n",
      "  if merged.obs[col].dtype == \"object\" or pd.api.types.is_categorical_dtype(merged.obs[col].dtype):\n",
      "/tmp/ipykernel_14681/3101451318.py:4: DeprecationWarning: is_categorical_dtype is deprecated and will be removed in a future version. Use isinstance(dtype, pd.CategoricalDtype) instead\n",
      "  if merged.obs[col].dtype == \"object\" or pd.api.types.is_categorical_dtype(merged.obs[col].dtype):\n",
      "/tmp/ipykernel_14681/3101451318.py:4: DeprecationWarning: is_categorical_dtype is deprecated and will be removed in a future version. Use isinstance(dtype, pd.CategoricalDtype) instead\n",
      "  if merged.obs[col].dtype == \"object\" or pd.api.types.is_categorical_dtype(merged.obs[col].dtype):\n",
      "/tmp/ipykernel_14681/3101451318.py:4: DeprecationWarning: is_categorical_dtype is deprecated and will be removed in a future version. Use isinstance(dtype, pd.CategoricalDtype) instead\n",
      "  if merged.obs[col].dtype == \"object\" or pd.api.types.is_categorical_dtype(merged.obs[col].dtype):\n",
      "/tmp/ipykernel_14681/3101451318.py:4: DeprecationWarning: is_categorical_dtype is deprecated and will be removed in a future version. Use isinstance(dtype, pd.CategoricalDtype) instead\n",
      "  if merged.obs[col].dtype == \"object\" or pd.api.types.is_categorical_dtype(merged.obs[col].dtype):\n",
      "/tmp/ipykernel_14681/3101451318.py:4: DeprecationWarning: is_categorical_dtype is deprecated and will be removed in a future version. Use isinstance(dtype, pd.CategoricalDtype) instead\n",
      "  if merged.obs[col].dtype == \"object\" or pd.api.types.is_categorical_dtype(merged.obs[col].dtype):\n",
      "/tmp/ipykernel_14681/3101451318.py:4: DeprecationWarning: is_categorical_dtype is deprecated and will be removed in a future version. Use isinstance(dtype, pd.CategoricalDtype) instead\n",
      "  if merged.obs[col].dtype == \"object\" or pd.api.types.is_categorical_dtype(merged.obs[col].dtype):\n",
      "/tmp/ipykernel_14681/3101451318.py:4: DeprecationWarning: is_categorical_dtype is deprecated and will be removed in a future version. Use isinstance(dtype, pd.CategoricalDtype) instead\n",
      "  if merged.obs[col].dtype == \"object\" or pd.api.types.is_categorical_dtype(merged.obs[col].dtype):\n",
      "/tmp/ipykernel_14681/3101451318.py:4: DeprecationWarning: is_categorical_dtype is deprecated and will be removed in a future version. Use isinstance(dtype, pd.CategoricalDtype) instead\n",
      "  if merged.obs[col].dtype == \"object\" or pd.api.types.is_categorical_dtype(merged.obs[col].dtype):\n",
      "/tmp/ipykernel_14681/3101451318.py:4: DeprecationWarning: is_categorical_dtype is deprecated and will be removed in a future version. Use isinstance(dtype, pd.CategoricalDtype) instead\n",
      "  if merged.obs[col].dtype == \"object\" or pd.api.types.is_categorical_dtype(merged.obs[col].dtype):\n",
      "/tmp/ipykernel_14681/3101451318.py:4: DeprecationWarning: is_categorical_dtype is deprecated and will be removed in a future version. Use isinstance(dtype, pd.CategoricalDtype) instead\n",
      "  if merged.obs[col].dtype == \"object\" or pd.api.types.is_categorical_dtype(merged.obs[col].dtype):\n",
      "/tmp/ipykernel_14681/3101451318.py:4: DeprecationWarning: is_categorical_dtype is deprecated and will be removed in a future version. Use isinstance(dtype, pd.CategoricalDtype) instead\n",
      "  if merged.obs[col].dtype == \"object\" or pd.api.types.is_categorical_dtype(merged.obs[col].dtype):\n"
     ]
    }
   ],
   "source": [
    "merged.obs[\"projid\"] = pd.to_numeric(merged.obs[\"projid\"], errors=\"coerce\").astype(\"Int64\")\n",
    "\n",
    "for col in merged.obs.columns:\n",
    "    if merged.obs[col].dtype == \"object\" or pd.api.types.is_categorical_dtype(merged.obs[col].dtype):\n",
    "        merged.obs[col] = merged.obs[col].astype(str)\n",
    "\n",
    "# Now write safely\n",
    "merged.write_h5ad(\"merged_microglia_fixed.h5ad\")"
   ]
  }
 ],
 "metadata": {
  "kernelspec": {
   "display_name": "Python (scvi-env-clean)",
   "language": "python",
   "name": "scvi-env-clean"
  },
  "language_info": {
   "codemirror_mode": {
    "name": "ipython",
    "version": 3
   },
   "file_extension": ".py",
   "mimetype": "text/x-python",
   "name": "python",
   "nbconvert_exporter": "python",
   "pygments_lexer": "ipython3",
   "version": "3.10.18"
  }
 },
 "nbformat": 4,
 "nbformat_minor": 5
}
