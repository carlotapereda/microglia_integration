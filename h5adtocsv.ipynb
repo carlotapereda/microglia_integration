{
 "cells": [
  {
   "cell_type": "code",
   "execution_count": null,
   "id": "27e58daf-f436-46ea-bddd-d28a79df3f1d",
   "metadata": {},
   "outputs": [],
   "source": [
    "#Change h5ad to csv in microglia"
   ]
  },
  {
   "cell_type": "code",
   "execution_count": 2,
   "id": "5e10b472-703c-4212-9b65-d8d7f6eb2365",
   "metadata": {},
   "outputs": [],
   "source": [
    "import scanpy as sc"
   ]
  },
  {
   "cell_type": "code",
   "execution_count": 3,
   "id": "2aa6cffc-d2b8-4614-bc8a-55428fcd0188",
   "metadata": {},
   "outputs": [],
   "source": [
    "adata = sc.read_h5ad('../integration/merged_microglia.h5ad')"
   ]
  },
  {
   "cell_type": "code",
   "execution_count": 4,
   "id": "e0406e22-d83d-459f-84f7-992089269801",
   "metadata": {},
   "outputs": [
    {
     "data": {
      "text/plain": [
       "AnnData object with n_obs × n_vars = 154148 × 17818\n",
       "    obs: 'projid', 'batch', 'individualID', 'species', 'sex', 'race', 'age_death', 'pmi', 'cogdx', 'n_genes_by_counts', 'log1p_n_genes_by_counts', 'total_counts', 'log1p_total_counts', 'pct_counts_in_top_20_genes', 'total_counts_mt', 'log1p_total_counts_mt', 'pct_counts_mt', 'total_counts_ribo', 'log1p_total_counts_ribo', 'pct_counts_ribo', 'total_counts_hb', 'log1p_total_counts_hb', 'pct_counts_hb', 'outlier', 'mt_outlier', 'n_genes', 'doublet_scores', 'predicted_doublets', 'dataset', 'study', 'educ_years', 'hispanic_latino', 'brain_region', 'apoe_genotype_std', 'apoe_e4_dosage', 'apoe_e4_carrier', 'braak_stage', 'braak_label', 'cerad_score_1_4', 'cerad_score_0_3', 'cerad_label', 'mmse', 'moca', 'casi', 'celltype_major', 'celltype_label', 'celltype_supertype', 'celltype_conf', 'doublet_label', 'harmonized'"
      ]
     },
     "execution_count": 4,
     "metadata": {},
     "output_type": "execute_result"
    }
   ],
   "source": [
    "adata"
   ]
  },
  {
   "cell_type": "code",
   "execution_count": 5,
   "id": "bfdb5ee4-12c6-42af-8362-da8be72ded75",
   "metadata": {},
   "outputs": [
    {
     "name": "stdout",
     "output_type": "stream",
     "text": [
      "AnnData object with n_obs × n_vars = 154148 × 17818\n",
      "    obs: 'projid', 'batch', 'individualID', 'species', 'sex', 'race', 'age_death', 'pmi', 'cogdx', 'n_genes_by_counts', 'log1p_n_genes_by_counts', 'total_counts', 'log1p_total_counts', 'pct_counts_in_top_20_genes', 'total_counts_mt', 'log1p_total_counts_mt', 'pct_counts_mt', 'total_counts_ribo', 'log1p_total_counts_ribo', 'pct_counts_ribo', 'total_counts_hb', 'log1p_total_counts_hb', 'pct_counts_hb', 'outlier', 'mt_outlier', 'n_genes', 'doublet_scores', 'predicted_doublets', 'dataset', 'study', 'educ_years', 'hispanic_latino', 'brain_region', 'apoe_genotype_std', 'apoe_e4_dosage', 'apoe_e4_carrier', 'braak_stage', 'braak_label', 'cerad_score_1_4', 'cerad_score_0_3', 'cerad_label', 'mmse', 'moca', 'casi', 'celltype_major', 'celltype_label', 'celltype_supertype', 'celltype_conf', 'doublet_label', 'harmonized'\n",
      "\n",
      "adata.uns keys: odict_keys([])\n",
      "\n",
      "adata.obsm keys: KeysView(AxisArrays with keys: )\n",
      "\n",
      "adata.varm keys: KeysView(AxisArrays with keys: )\n",
      "\n",
      "adata.obs columns: ['projid', 'batch', 'individualID', 'species', 'sex', 'race', 'age_death', 'pmi', 'cogdx', 'n_genes_by_counts', 'log1p_n_genes_by_counts', 'total_counts', 'log1p_total_counts', 'pct_counts_in_top_20_genes', 'total_counts_mt', 'log1p_total_counts_mt', 'pct_counts_mt', 'total_counts_ribo', 'log1p_total_counts_ribo', 'pct_counts_ribo', 'total_counts_hb', 'log1p_total_counts_hb', 'pct_counts_hb', 'outlier', 'mt_outlier', 'n_genes', 'doublet_scores', 'predicted_doublets', 'dataset', 'study', 'educ_years', 'hispanic_latino', 'brain_region', 'apoe_genotype_std', 'apoe_e4_dosage', 'apoe_e4_carrier', 'braak_stage', 'braak_label', 'cerad_score_1_4', 'cerad_score_0_3', 'cerad_label', 'mmse', 'moca', 'casi', 'celltype_major', 'celltype_label', 'celltype_supertype', 'celltype_conf', 'doublet_label', 'harmonized']\n",
      "\n",
      "adata.var columns: []\n"
     ]
    }
   ],
   "source": [
    "# General info\n",
    "print(adata)\n",
    "\n",
    "# Look at uns (often where images/spatial sneak in)\n",
    "print(\"\\nadata.uns keys:\", adata.uns.keys())\n",
    "\n",
    "# Look at obsm (sometimes has 'spatial' coordinates)\n",
    "print(\"\\nadata.obsm keys:\", adata.obsm.keys())\n",
    "\n",
    "# Look at varm\n",
    "print(\"\\nadata.varm keys:\", adata.varm.keys())\n",
    "\n",
    "# Peek at obs\n",
    "print(\"\\nadata.obs columns:\", adata.obs.columns.tolist())\n",
    "\n",
    "# Peek at var\n",
    "print(\"\\nadata.var columns:\", adata.var.columns.tolist())"
   ]
  },
  {
   "cell_type": "code",
   "execution_count": 1,
   "id": "1cf25109-2a1e-49c4-ad60-89fac1d69df5",
   "metadata": {},
   "outputs": [],
   "source": [
    "# Drop all possible image keys\n",
    "for key in list(adata.uns.keys()):\n",
    "    if \"image\" in key.lower():\n",
    "        del adata.uns[key]\n",
    "\n",
    "adata.write(\"../integration/merged_microglia_for_seurat.h5ad\")\n"
   ]
  },
  {
   "cell_type": "code",
   "execution_count": 1,
   "id": "c488f58c-f76a-47cd-a8ee-9c6ba77619f4",
   "metadata": {},
   "outputs": [],
   "source": [
    "from scipy.io import mmwrite\n",
    "import scanpy as sc\n",
    "\n",
    "adata = sc.read_h5ad(\"../integration/merged_microglia_fixed.h5ad\")\n",
    "\n",
    "counts = adata.layers[\"counts\"] if \"counts\" in adata.layers else adata.X\n",
    "mmwrite(\"../integration/mergedMic_counts.mtx\", counts.T)\n",
    "\n",
    "adata.obs_names.to_series().to_csv(\"../integration/mergedMic_barcodes.tsv\",\n",
    "                                   sep=\"\\t\", index=False, header=False)\n",
    "adata.var_names.to_series().to_csv(\"../integration/mergedMic_features.tsv\",\n",
    "                                   sep=\"\\t\", index=False, header=False)\n",
    "adata.obs.to_csv(\"../integration/mergedMic_metadata.csv\")\n"
   ]
  },
  {
   "cell_type": "markdown",
   "id": "169547d2-0767-41d3-9a12-1dbbbb7fd359",
   "metadata": {},
   "source": [
    "library(Seurat)\n",
    "\n",
    "counts <- ReadMtx(\n",
    "  mtx = \"mergedMic_counts.mtx\",\n",
    "  cells = \"mergedMic_metadata.csv\",\n",
    "  features = \"mergedMic_features.csv\"\n",
    ")\n",
    "\n",
    "seurat_obj <- CreateSeuratObject(counts = counts, meta.data = read.csv(\"mergedMic_metadata.csv\", row.names = 1))\n"
   ]
  }
 ],
 "metadata": {
  "kernelspec": {
   "display_name": "Python (scvi-env-clean)",
   "language": "python",
   "name": "scvi-env-clean"
  },
  "language_info": {
   "codemirror_mode": {
    "name": "ipython",
    "version": 3
   },
   "file_extension": ".py",
   "mimetype": "text/x-python",
   "name": "python",
   "nbconvert_exporter": "python",
   "pygments_lexer": "ipython3",
   "version": "3.10.18"
  }
 },
 "nbformat": 4,
 "nbformat_minor": 5
}
